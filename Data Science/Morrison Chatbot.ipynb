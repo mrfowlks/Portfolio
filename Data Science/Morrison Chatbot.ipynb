{
 "cells": [
  {
   "cell_type": "code",
   "execution_count": 10,
   "id": "bd88f455",
   "metadata": {},
   "outputs": [],
   "source": [
    "import en_core_web_lg\n",
    "import numpy as np\n",
    "import re\n",
    "import spacy \n",
    "\n",
    "from collections import defaultdict\n",
    "from sklearn.svm import SVC "
   ]
  },
  {
   "cell_type": "code",
   "execution_count": 11,
   "id": "7cfc357f",
   "metadata": {},
   "outputs": [],
   "source": [
    "output_format = \"IN: {input}\\nOUT: {output}\\n\" + \"_\"*50"
   ]
  },
  {
   "cell_type": "code",
   "execution_count": 12,
   "id": "5bed46c6",
   "metadata": {},
   "outputs": [],
   "source": [
    "# training data\n",
    "training_sentences = [\n",
    "    \"Who are you?\",\n",
    "    \"what's your name?\",\n",
    "    \"Hello, whats your name?\",\n",
    "    \"Do I Know you??\",\n",
    "    \"What is your name?\", \n",
    "    \"How are you feeling?\",\n",
    "    \"Howe're you feeling?\",\n",
    "    \"Are you alright?\",\n",
    "    \"Are you feeling ok?\",\n",
    "    \"How're you feeling?\"\n",
    "    \n",
    "]\n",
    "training_intents = [\n",
    "    \"welcome\",\n",
    "    \"welcome\",\n",
    "    \"welcome\",\n",
    "    \"welcome\",\n",
    "    \"welcome\",\n",
    "    \"feeling\",\n",
    "    \"feeling\",\n",
    "    \"feeling\",\n",
    "    \"feeling\",\n",
    "    \"feeling\"   \n",
    "]"
   ]
  },
  {
   "cell_type": "code",
   "execution_count": 13,
   "id": "5ce727c1",
   "metadata": {},
   "outputs": [],
   "source": [
    "#wait one moment \n",
    "nlp = en_core_web_lg.load()"
   ]
  },
  {
   "cell_type": "code",
   "execution_count": 14,
   "id": "c0b11316",
   "metadata": {},
   "outputs": [],
   "source": [
    "X_train = np.zeros((len(training_sentences), \n",
    "              nlp('sentences').vocab.vectors_length))\n",
    "\n",
    "for i, sentence in enumerate(training_sentences):\n",
    "    doc = nlp(sentence)\n",
    "    X_train[i, :] = doc.vector"
   ]
  },
  {
   "cell_type": "code",
   "execution_count": 15,
   "id": "30be82b6",
   "metadata": {},
   "outputs": [
    {
     "data": {
      "text/plain": [
       "SVC(C=1, gamma='auto', probability=True)"
      ]
     },
     "execution_count": 15,
     "metadata": {},
     "output_type": "execute_result"
    }
   ],
   "source": [
    "clf = SVC(C=1, gamma=\"auto\", probability=True)\n",
    "clf.fit(X_train, training_intents)"
   ]
  },
  {
   "cell_type": "code",
   "execution_count": 16,
   "id": "9a9643db",
   "metadata": {},
   "outputs": [],
   "source": [
    "def get_intent_ml(text):\n",
    "    doc = nlp(text)\n",
    "    return(clf.predict([doc.vector])[0])"
   ]
  },
  {
   "cell_type": "code",
   "execution_count": 21,
   "id": "e39fbb0b",
   "metadata": {},
   "outputs": [],
   "source": [
    "responses_ml = {\n",
    "    \"welcome\":\"Hello! My name is Morrison Fowlks, Nice to meet you!\",\n",
    "    \"feeling\": \"I'm feeling alright! it was great meeting you, tell me a little about yourself!\",\n",
    "    \"default\":\"I like you too!\"\n",
    "}\n",
    "\n",
    "def respond_ml(text):\n",
    "    response = responses_ml.get(get_intent_ml(text), responses_ml[\"default\"])\n",
    "    return(output_format.format(input=text, output=response))"
   ]
  },
  {
   "cell_type": "code",
   "execution_count": 22,
   "id": "4d045f47",
   "metadata": {},
   "outputs": [
    {
     "name": "stdout",
     "output_type": "stream",
     "text": [
      "IN: Hello, whats your name?\n",
      "OUT: Hello! My name is Morrison Fowlks, Nice to meet you!\n",
      "__________________________________________________\n",
      "IN: How are you feeling?\n",
      "OUT: I'm feeling alright! it was great meeting you, tell me a little about yourself!\n",
      "__________________________________________________\n",
      "IN: l\n",
      "OUT: Hello! My name is Morrison Fowlks, Nice to meet you!\n",
      "__________________________________________________\n"
     ]
    }
   ],
   "source": [
    "print(respond_ml(\"Hello, whats your name?\"))\n",
    "print(respond_ml(\"How are you feeling?\"))\n",
    "print(respond_ml(\"l\"))"
   ]
  },
  {
   "cell_type": "markdown",
   "id": "f8b9ce45",
   "metadata": {},
   "source": [
    "Hello! This is the real Morrison Fowlks here, I made this chatbot in hopes to learn some more about machine learning and in turn create another me that my freinds and family could maybe use in the future. This is a work in progress, thank you for joining me! "
   ]
  },
  {
   "cell_type": "code",
   "execution_count": null,
   "id": "6fa3630e",
   "metadata": {},
   "outputs": [],
   "source": []
  }
 ],
 "metadata": {
  "kernelspec": {
   "display_name": "Python 3 (ipykernel)",
   "language": "python",
   "name": "python3"
  },
  "language_info": {
   "codemirror_mode": {
    "name": "ipython",
    "version": 3
   },
   "file_extension": ".py",
   "mimetype": "text/x-python",
   "name": "python",
   "nbconvert_exporter": "python",
   "pygments_lexer": "ipython3",
   "version": "3.9.7"
  }
 },
 "nbformat": 4,
 "nbformat_minor": 5
}
